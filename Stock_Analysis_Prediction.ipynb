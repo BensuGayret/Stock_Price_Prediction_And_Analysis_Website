{
 "cells": [
  {
   "cell_type": "markdown",
   "id": "6320dd6f",
   "metadata": {},
   "source": [
    "# Stock Price Prediction\n",
    "Bensu GAYRET - December 2022\n",
    "\n",
    "### References:\n",
    "- [Stock Trend Prediction ]([https://www.youtube.com/watch?v=s3CnE2tqQdo&list=LL&index=2&ab_channel=GeeksforGeeks])\n",
    "- [Predicting Future Stock Market Trends with Python & Machine Learning]([https://towardsdatascience.com/predicting-future-stock-market-trends-with-python-machine-learning-2bf3f1633b3c])\n",
    "- [Stock Price Prediction ]([https://www.kaggle.com/code/l33tc0d3r/stock-price-predictions])"
   ]
  },
  {
   "cell_type": "code",
   "execution_count": 175,
   "id": "1e801317",
   "metadata": {},
   "outputs": [],
   "source": [
    "#Imports and Data Collection\n",
    "\n",
    "import numpy as np\n",
    "import pandas as pd\n",
    "import matplotlib.pyplot as plt \n",
    "#Data readers \n",
    "#!pip install pandas-datareader \n",
    "import pandas_datareader as data\n",
    "import yfinance as yf"
   ]
  },
  {
   "cell_type": "code",
   "execution_count": 70,
   "id": "26f5a68e",
   "metadata": {},
   "outputs": [
    {
     "name": "stdout",
     "output_type": "stream",
     "text": [
      "[*********************100%***********************]  1 of 1 completed\n"
     ]
    },
    {
     "data": {
      "text/html": [
       "<div>\n",
       "<style scoped>\n",
       "    .dataframe tbody tr th:only-of-type {\n",
       "        vertical-align: middle;\n",
       "    }\n",
       "\n",
       "    .dataframe tbody tr th {\n",
       "        vertical-align: top;\n",
       "    }\n",
       "\n",
       "    .dataframe thead th {\n",
       "        text-align: right;\n",
       "    }\n",
       "</style>\n",
       "<table border=\"1\" class=\"dataframe\">\n",
       "  <thead>\n",
       "    <tr style=\"text-align: right;\">\n",
       "      <th></th>\n",
       "      <th>Open</th>\n",
       "      <th>High</th>\n",
       "      <th>Low</th>\n",
       "      <th>Close</th>\n",
       "      <th>Adj Close</th>\n",
       "      <th>Volume</th>\n",
       "    </tr>\n",
       "    <tr>\n",
       "      <th>Date</th>\n",
       "      <th></th>\n",
       "      <th></th>\n",
       "      <th></th>\n",
       "      <th></th>\n",
       "      <th></th>\n",
       "      <th></th>\n",
       "    </tr>\n",
       "  </thead>\n",
       "  <tbody>\n",
       "    <tr>\n",
       "      <th>2012-12-12</th>\n",
       "      <td>19.563213</td>\n",
       "      <td>19.571428</td>\n",
       "      <td>19.152500</td>\n",
       "      <td>19.250000</td>\n",
       "      <td>16.554762</td>\n",
       "      <td>487144000</td>\n",
       "    </tr>\n",
       "    <tr>\n",
       "      <th>2012-12-13</th>\n",
       "      <td>18.969643</td>\n",
       "      <td>19.201429</td>\n",
       "      <td>18.778570</td>\n",
       "      <td>18.917500</td>\n",
       "      <td>16.268818</td>\n",
       "      <td>625259600</td>\n",
       "    </tr>\n",
       "    <tr>\n",
       "      <th>2012-12-14</th>\n",
       "      <td>18.383928</td>\n",
       "      <td>18.504642</td>\n",
       "      <td>18.056429</td>\n",
       "      <td>18.206785</td>\n",
       "      <td>15.657619</td>\n",
       "      <td>1009579200</td>\n",
       "    </tr>\n",
       "    <tr>\n",
       "      <th>2012-12-17</th>\n",
       "      <td>18.176071</td>\n",
       "      <td>18.571428</td>\n",
       "      <td>17.901072</td>\n",
       "      <td>18.529642</td>\n",
       "      <td>15.935266</td>\n",
       "      <td>757607200</td>\n",
       "    </tr>\n",
       "    <tr>\n",
       "      <th>2012-12-18</th>\n",
       "      <td>18.750000</td>\n",
       "      <td>19.103571</td>\n",
       "      <td>18.580357</td>\n",
       "      <td>19.067858</td>\n",
       "      <td>16.398119</td>\n",
       "      <td>625685200</td>\n",
       "    </tr>\n",
       "  </tbody>\n",
       "</table>\n",
       "</div>"
      ],
      "text/plain": [
       "                 Open       High        Low      Close  Adj Close      Volume\n",
       "Date                                                                         \n",
       "2012-12-12  19.563213  19.571428  19.152500  19.250000  16.554762   487144000\n",
       "2012-12-13  18.969643  19.201429  18.778570  18.917500  16.268818   625259600\n",
       "2012-12-14  18.383928  18.504642  18.056429  18.206785  15.657619  1009579200\n",
       "2012-12-17  18.176071  18.571428  17.901072  18.529642  15.935266   757607200\n",
       "2012-12-18  18.750000  19.103571  18.580357  19.067858  16.398119   625685200"
      ]
     },
     "execution_count": 70,
     "metadata": {},
     "output_type": "execute_result"
    }
   ],
   "source": [
    "# Set the start and end date\n",
    "start_date = '2012-12-12'\n",
    "end_date = '2022-12-12'\n",
    "\n",
    "# Set the ticker\n",
    "ticker = 'AAPL' #company names [EX: 'AAPL':APPLE ,'AMZN':AMAZON]\n",
    "\n",
    "# Get the data\n",
    "data = yf.download(ticker, start_date, end_date)\n",
    "#data = data.DataReader(ticker, 'yahoo' , start_date, end_date)\n",
    "\n",
    "# Print 5 rows\n",
    "data.head()"
   ]
  },
  {
   "cell_type": "code",
   "execution_count": 71,
   "id": "9a1064e9",
   "metadata": {},
   "outputs": [
    {
     "data": {
      "text/html": [
       "<div>\n",
       "<style scoped>\n",
       "    .dataframe tbody tr th:only-of-type {\n",
       "        vertical-align: middle;\n",
       "    }\n",
       "\n",
       "    .dataframe tbody tr th {\n",
       "        vertical-align: top;\n",
       "    }\n",
       "\n",
       "    .dataframe thead th {\n",
       "        text-align: right;\n",
       "    }\n",
       "</style>\n",
       "<table border=\"1\" class=\"dataframe\">\n",
       "  <thead>\n",
       "    <tr style=\"text-align: right;\">\n",
       "      <th></th>\n",
       "      <th>Open</th>\n",
       "      <th>High</th>\n",
       "      <th>Low</th>\n",
       "      <th>Close</th>\n",
       "      <th>Adj Close</th>\n",
       "      <th>Volume</th>\n",
       "    </tr>\n",
       "    <tr>\n",
       "      <th>Date</th>\n",
       "      <th></th>\n",
       "      <th></th>\n",
       "      <th></th>\n",
       "      <th></th>\n",
       "      <th></th>\n",
       "      <th></th>\n",
       "    </tr>\n",
       "  </thead>\n",
       "  <tbody>\n",
       "    <tr>\n",
       "      <th>2022-12-05</th>\n",
       "      <td>147.770004</td>\n",
       "      <td>150.919998</td>\n",
       "      <td>145.770004</td>\n",
       "      <td>146.630005</td>\n",
       "      <td>146.630005</td>\n",
       "      <td>68826400</td>\n",
       "    </tr>\n",
       "    <tr>\n",
       "      <th>2022-12-06</th>\n",
       "      <td>147.070007</td>\n",
       "      <td>147.300003</td>\n",
       "      <td>141.919998</td>\n",
       "      <td>142.910004</td>\n",
       "      <td>142.910004</td>\n",
       "      <td>64727200</td>\n",
       "    </tr>\n",
       "    <tr>\n",
       "      <th>2022-12-07</th>\n",
       "      <td>142.190002</td>\n",
       "      <td>143.369995</td>\n",
       "      <td>140.000000</td>\n",
       "      <td>140.940002</td>\n",
       "      <td>140.940002</td>\n",
       "      <td>69721100</td>\n",
       "    </tr>\n",
       "    <tr>\n",
       "      <th>2022-12-08</th>\n",
       "      <td>142.360001</td>\n",
       "      <td>143.520004</td>\n",
       "      <td>141.100006</td>\n",
       "      <td>142.649994</td>\n",
       "      <td>142.649994</td>\n",
       "      <td>62128300</td>\n",
       "    </tr>\n",
       "    <tr>\n",
       "      <th>2022-12-09</th>\n",
       "      <td>142.339996</td>\n",
       "      <td>145.570007</td>\n",
       "      <td>140.899994</td>\n",
       "      <td>142.160004</td>\n",
       "      <td>142.160004</td>\n",
       "      <td>76069500</td>\n",
       "    </tr>\n",
       "  </tbody>\n",
       "</table>\n",
       "</div>"
      ],
      "text/plain": [
       "                  Open        High         Low       Close   Adj Close  \\\n",
       "Date                                                                     \n",
       "2022-12-05  147.770004  150.919998  145.770004  146.630005  146.630005   \n",
       "2022-12-06  147.070007  147.300003  141.919998  142.910004  142.910004   \n",
       "2022-12-07  142.190002  143.369995  140.000000  140.940002  140.940002   \n",
       "2022-12-08  142.360001  143.520004  141.100006  142.649994  142.649994   \n",
       "2022-12-09  142.339996  145.570007  140.899994  142.160004  142.160004   \n",
       "\n",
       "              Volume  \n",
       "Date                  \n",
       "2022-12-05  68826400  \n",
       "2022-12-06  64727200  \n",
       "2022-12-07  69721100  \n",
       "2022-12-08  62128300  \n",
       "2022-12-09  76069500  "
      ]
     },
     "execution_count": 71,
     "metadata": {},
     "output_type": "execute_result"
    }
   ],
   "source": [
    "data.tail()"
   ]
  },
  {
   "cell_type": "code",
   "execution_count": 72,
   "id": "0be92466",
   "metadata": {},
   "outputs": [
    {
     "data": {
      "text/html": [
       "<div>\n",
       "<style scoped>\n",
       "    .dataframe tbody tr th:only-of-type {\n",
       "        vertical-align: middle;\n",
       "    }\n",
       "\n",
       "    .dataframe tbody tr th {\n",
       "        vertical-align: top;\n",
       "    }\n",
       "\n",
       "    .dataframe thead th {\n",
       "        text-align: right;\n",
       "    }\n",
       "</style>\n",
       "<table border=\"1\" class=\"dataframe\">\n",
       "  <thead>\n",
       "    <tr style=\"text-align: right;\">\n",
       "      <th></th>\n",
       "      <th>Date</th>\n",
       "      <th>Open</th>\n",
       "      <th>High</th>\n",
       "      <th>Low</th>\n",
       "      <th>Close</th>\n",
       "      <th>Adj Close</th>\n",
       "      <th>Volume</th>\n",
       "    </tr>\n",
       "  </thead>\n",
       "  <tbody>\n",
       "    <tr>\n",
       "      <th>0</th>\n",
       "      <td>2012-12-12</td>\n",
       "      <td>19.563213</td>\n",
       "      <td>19.571428</td>\n",
       "      <td>19.152500</td>\n",
       "      <td>19.250000</td>\n",
       "      <td>16.554762</td>\n",
       "      <td>487144000</td>\n",
       "    </tr>\n",
       "    <tr>\n",
       "      <th>1</th>\n",
       "      <td>2012-12-13</td>\n",
       "      <td>18.969643</td>\n",
       "      <td>19.201429</td>\n",
       "      <td>18.778570</td>\n",
       "      <td>18.917500</td>\n",
       "      <td>16.268818</td>\n",
       "      <td>625259600</td>\n",
       "    </tr>\n",
       "    <tr>\n",
       "      <th>2</th>\n",
       "      <td>2012-12-14</td>\n",
       "      <td>18.383928</td>\n",
       "      <td>18.504642</td>\n",
       "      <td>18.056429</td>\n",
       "      <td>18.206785</td>\n",
       "      <td>15.657619</td>\n",
       "      <td>1009579200</td>\n",
       "    </tr>\n",
       "    <tr>\n",
       "      <th>3</th>\n",
       "      <td>2012-12-17</td>\n",
       "      <td>18.176071</td>\n",
       "      <td>18.571428</td>\n",
       "      <td>17.901072</td>\n",
       "      <td>18.529642</td>\n",
       "      <td>15.935266</td>\n",
       "      <td>757607200</td>\n",
       "    </tr>\n",
       "    <tr>\n",
       "      <th>4</th>\n",
       "      <td>2012-12-18</td>\n",
       "      <td>18.750000</td>\n",
       "      <td>19.103571</td>\n",
       "      <td>18.580357</td>\n",
       "      <td>19.067858</td>\n",
       "      <td>16.398119</td>\n",
       "      <td>625685200</td>\n",
       "    </tr>\n",
       "  </tbody>\n",
       "</table>\n",
       "</div>"
      ],
      "text/plain": [
       "        Date       Open       High        Low      Close  Adj Close  \\\n",
       "0 2012-12-12  19.563213  19.571428  19.152500  19.250000  16.554762   \n",
       "1 2012-12-13  18.969643  19.201429  18.778570  18.917500  16.268818   \n",
       "2 2012-12-14  18.383928  18.504642  18.056429  18.206785  15.657619   \n",
       "3 2012-12-17  18.176071  18.571428  17.901072  18.529642  15.935266   \n",
       "4 2012-12-18  18.750000  19.103571  18.580357  19.067858  16.398119   \n",
       "\n",
       "       Volume  \n",
       "0   487144000  \n",
       "1   625259600  \n",
       "2  1009579200  \n",
       "3   757607200  \n",
       "4   625685200  "
      ]
     },
     "execution_count": 72,
     "metadata": {},
     "output_type": "execute_result"
    }
   ],
   "source": [
    "data = data.reset_index()\n",
    "data.head()"
   ]
  },
  {
   "cell_type": "code",
   "execution_count": 73,
   "id": "65400768",
   "metadata": {},
   "outputs": [
    {
     "data": {
      "text/plain": [
       "[<matplotlib.lines.Line2D at 0x284c8cd4880>]"
      ]
     },
     "execution_count": 73,
     "metadata": {},
     "output_type": "execute_result"
    },
    {
     "data": {
      "image/png": "[encoded data removed]",
      "text/plain": [
       "<Figure size 640x480 with 1 Axes>"
      ]
     },
     "metadata": {},
     "output_type": "display_data"
    }
   ],
   "source": [
    "#Data from the ‘Close’ column\n",
    "plt.plot(data.Close) "
   ]
  },
  {
   "cell_type": "markdown",
   "id": "c1e3bbe8",
   "metadata": {},
   "source": [
    "# Data Processing & Feature Engineering\n",
    "If we want to know when a stock will increase or decrease. we would just need to look into the future and observe the price to determine if we should buy or sell right now. "
   ]
  },
  {
   "cell_type": "markdown",
   "id": "2bee9785",
   "metadata": {},
   "source": [
    "Pandas dataframe.rolling() function provides the feature of rolling window calculations. The concept of rolling window calculation is most primarily used in signal processing and time-series data. In very simple words we take a window size of k at a time and perform some desired mathematical operation on it. A window of size k means k consecutive values at a time. In a very simple case, all the ‘k’ values are equally weighted.\n",
    "\n",
    "(her seferinde k pencere boyutunu alıyoruz ve üzerinde istenen bazı matematiksel işlemleri gerçekleştiriyoruz. k boyutunda bir pencere, bir seferde k ardışık değer anlamına gelir. Çok basit bir durumda, tüm 'k' değerleri eşit ağırlıklıdır)"
   ]
  },
  {
   "cell_type": "code",
   "execution_count": 74,
   "id": "79243d73",
   "metadata": {},
   "outputs": [
    {
     "data": {
      "text/plain": [
       "0              NaN\n",
       "1              NaN\n",
       "2              NaN\n",
       "3              NaN\n",
       "4              NaN\n",
       "           ...    \n",
       "2512    152.940799\n",
       "2513    152.868199\n",
       "2514    152.806899\n",
       "2515    152.723399\n",
       "2516    152.614599\n",
       "Name: Close, Length: 2517, dtype: float64"
      ]
     },
     "execution_count": 74,
     "metadata": {},
     "output_type": "execute_result"
    }
   ],
   "source": [
    "avr100= data.Close.rolling(100).mean() #dataframe.rolling() function provides the feature of rolling window calculations\n",
    "avr100"
   ]
  },
  {
   "cell_type": "code",
   "execution_count": 75,
   "id": "a433cb7e",
   "metadata": {},
   "outputs": [
    {
     "data": {
      "text/plain": [
       "[<matplotlib.lines.Line2D at 0x284c8d37190>]"
      ]
     },
     "execution_count": 75,
     "metadata": {},
     "output_type": "execute_result"
    },
    {
     "data": {
      "image/png": "[encoded data removed]",
      "text/plain": [
       "<Figure size 1200x600 with 1 Axes>"
      ]
     },
     "metadata": {},
     "output_type": "display_data"
    }
   ],
   "source": [
    "plt.figure(figsize=(12,6))\n",
    "plt.plot(data.Close) \n",
    "plt.plot(avr100,'r') "
   ]
  },
  {
   "cell_type": "code",
   "execution_count": 76,
   "id": "f9bbf45d",
   "metadata": {},
   "outputs": [
    {
     "data": {
      "text/plain": [
       "0             NaN\n",
       "1             NaN\n",
       "2             NaN\n",
       "3             NaN\n",
       "4             NaN\n",
       "          ...    \n",
       "2512    153.85670\n",
       "2513    153.73475\n",
       "2514    153.61785\n",
       "2515    153.53075\n",
       "2516    153.42785\n",
       "Name: Close, Length: 2517, dtype: float64"
      ]
     },
     "execution_count": 76,
     "metadata": {},
     "output_type": "execute_result"
    }
   ],
   "source": [
    "avr200= data.Close.rolling(200).mean() \n",
    "avr200"
   ]
  },
  {
   "cell_type": "code",
   "execution_count": 77,
   "id": "2405c489",
   "metadata": {},
   "outputs": [
    {
     "data": {
      "text/plain": [
       "<matplotlib.legend.Legend at 0x284c8d202e0>"
      ]
     },
     "execution_count": 77,
     "metadata": {},
     "output_type": "execute_result"
    },
    {
     "data": {
      "image/png": "[encoded data removed]",
      "text/plain": [
       "<Figure size 1200x600 with 1 Axes>"
      ]
     },
     "metadata": {},
     "output_type": "display_data"
    }
   ],
   "source": [
    "plt.figure(figsize=(12,6))\n",
    "plt.plot(data.Close) \n",
    "plt.plot(avr100,'r') \n",
    "plt.plot(avr200,'y') \n",
    "plt.legend(['Close Values','Average 100','Average 200'])"
   ]
  },
  {
   "cell_type": "code",
   "execution_count": 78,
   "id": "629971d0",
   "metadata": {},
   "outputs": [
    {
     "data": {
      "text/plain": [
       "(2517, 7)"
      ]
     },
     "execution_count": 78,
     "metadata": {},
     "output_type": "execute_result"
    }
   ],
   "source": [
    "data.shape"
   ]
  },
  {
   "cell_type": "code",
   "execution_count": 79,
   "id": "cf611426",
   "metadata": {},
   "outputs": [],
   "source": [
    "# Drop unnecessary columns\n",
    "data= data.drop(['Date','Adj Close'], axis=1)"
   ]
  },
  {
   "cell_type": "code",
   "execution_count": 80,
   "id": "3a3a83c1",
   "metadata": {},
   "outputs": [
    {
     "data": {
      "text/html": [
       "<div>\n",
       "<style scoped>\n",
       "    .dataframe tbody tr th:only-of-type {\n",
       "        vertical-align: middle;\n",
       "    }\n",
       "\n",
       "    .dataframe tbody tr th {\n",
       "        vertical-align: top;\n",
       "    }\n",
       "\n",
       "    .dataframe thead th {\n",
       "        text-align: right;\n",
       "    }\n",
       "</style>\n",
       "<table border=\"1\" class=\"dataframe\">\n",
       "  <thead>\n",
       "    <tr style=\"text-align: right;\">\n",
       "      <th></th>\n",
       "      <th>Open</th>\n",
       "      <th>High</th>\n",
       "      <th>Low</th>\n",
       "      <th>Close</th>\n",
       "      <th>Volume</th>\n",
       "    </tr>\n",
       "  </thead>\n",
       "  <tbody>\n",
       "    <tr>\n",
       "      <th>0</th>\n",
       "      <td>19.563213</td>\n",
       "      <td>19.571428</td>\n",
       "      <td>19.152500</td>\n",
       "      <td>19.250000</td>\n",
       "      <td>487144000</td>\n",
       "    </tr>\n",
       "    <tr>\n",
       "      <th>1</th>\n",
       "      <td>18.969643</td>\n",
       "      <td>19.201429</td>\n",
       "      <td>18.778570</td>\n",
       "      <td>18.917500</td>\n",
       "      <td>625259600</td>\n",
       "    </tr>\n",
       "    <tr>\n",
       "      <th>2</th>\n",
       "      <td>18.383928</td>\n",
       "      <td>18.504642</td>\n",
       "      <td>18.056429</td>\n",
       "      <td>18.206785</td>\n",
       "      <td>1009579200</td>\n",
       "    </tr>\n",
       "    <tr>\n",
       "      <th>3</th>\n",
       "      <td>18.176071</td>\n",
       "      <td>18.571428</td>\n",
       "      <td>17.901072</td>\n",
       "      <td>18.529642</td>\n",
       "      <td>757607200</td>\n",
       "    </tr>\n",
       "    <tr>\n",
       "      <th>4</th>\n",
       "      <td>18.750000</td>\n",
       "      <td>19.103571</td>\n",
       "      <td>18.580357</td>\n",
       "      <td>19.067858</td>\n",
       "      <td>625685200</td>\n",
       "    </tr>\n",
       "    <tr>\n",
       "      <th>...</th>\n",
       "      <td>...</td>\n",
       "      <td>...</td>\n",
       "      <td>...</td>\n",
       "      <td>...</td>\n",
       "      <td>...</td>\n",
       "    </tr>\n",
       "    <tr>\n",
       "      <th>2512</th>\n",
       "      <td>147.770004</td>\n",
       "      <td>150.919998</td>\n",
       "      <td>145.770004</td>\n",
       "      <td>146.630005</td>\n",
       "      <td>68826400</td>\n",
       "    </tr>\n",
       "    <tr>\n",
       "      <th>2513</th>\n",
       "      <td>147.070007</td>\n",
       "      <td>147.300003</td>\n",
       "      <td>141.919998</td>\n",
       "      <td>142.910004</td>\n",
       "      <td>64727200</td>\n",
       "    </tr>\n",
       "    <tr>\n",
       "      <th>2514</th>\n",
       "      <td>142.190002</td>\n",
       "      <td>143.369995</td>\n",
       "      <td>140.000000</td>\n",
       "      <td>140.940002</td>\n",
       "      <td>69721100</td>\n",
       "    </tr>\n",
       "    <tr>\n",
       "      <th>2515</th>\n",
       "      <td>142.360001</td>\n",
       "      <td>143.520004</td>\n",
       "      <td>141.100006</td>\n",
       "      <td>142.649994</td>\n",
       "      <td>62128300</td>\n",
       "    </tr>\n",
       "    <tr>\n",
       "      <th>2516</th>\n",
       "      <td>142.339996</td>\n",
       "      <td>145.570007</td>\n",
       "      <td>140.899994</td>\n",
       "      <td>142.160004</td>\n",
       "      <td>76069500</td>\n",
       "    </tr>\n",
       "  </tbody>\n",
       "</table>\n",
       "<p>2517 rows × 5 columns</p>\n",
       "</div>"
      ],
      "text/plain": [
       "            Open        High         Low       Close      Volume\n",
       "0      19.563213   19.571428   19.152500   19.250000   487144000\n",
       "1      18.969643   19.201429   18.778570   18.917500   625259600\n",
       "2      18.383928   18.504642   18.056429   18.206785  1009579200\n",
       "3      18.176071   18.571428   17.901072   18.529642   757607200\n",
       "4      18.750000   19.103571   18.580357   19.067858   625685200\n",
       "...          ...         ...         ...         ...         ...\n",
       "2512  147.770004  150.919998  145.770004  146.630005    68826400\n",
       "2513  147.070007  147.300003  141.919998  142.910004    64727200\n",
       "2514  142.190002  143.369995  140.000000  140.940002    69721100\n",
       "2515  142.360001  143.520004  141.100006  142.649994    62128300\n",
       "2516  142.339996  145.570007  140.899994  142.160004    76069500\n",
       "\n",
       "[2517 rows x 5 columns]"
      ]
     },
     "execution_count": 80,
     "metadata": {},
     "output_type": "execute_result"
    }
   ],
   "source": [
    "data"
   ]
  },
  {
   "cell_type": "markdown",
   "id": "ce9ee6f5",
   "metadata": {},
   "source": [
    "# Model Creation"
   ]
  },
  {
   "cell_type": "code",
   "execution_count": 81,
   "id": "5ddb628a",
   "metadata": {},
   "outputs": [
    {
     "name": "stdout",
     "output_type": "stream",
     "text": [
      "(1761, 1)\n",
      "(756, 1)\n"
     ]
    }
   ],
   "source": [
    "# Split up the data into a train set and test set\n",
    "data_training = pd.DataFrame(data[\"Close\"][0:int(len(data)*0.70)])\n",
    "data_testing = pd.DataFrame(data[\"Close\"][int(len(data)*0.70): int(len(data)) ])\n",
    "print(data_training.shape) # %70\n",
    "print(data_testing.shape) # %30"
   ]
  },
  {
   "cell_type": "code",
   "execution_count": 82,
   "id": "5941984d",
   "metadata": {},
   "outputs": [],
   "source": [
    "from sklearn.preprocessing import MinMaxScaler\n",
    "scaler = MinMaxScaler(feature_range=(0,1))"
   ]
  },
  {
   "cell_type": "code",
   "execution_count": 83,
   "id": "ac46ba06",
   "metadata": {},
   "outputs": [
    {
     "data": {
      "text/plain": [
       "array([[0.09868788],\n",
       "       [0.09249953],\n",
       "       [0.07927201],\n",
       "       ...,\n",
       "       [1.        ],\n",
       "       [0.98236563],\n",
       "       [0.98962414]])"
      ]
     },
     "execution_count": 83,
     "metadata": {},
     "output_type": "execute_result"
    }
   ],
   "source": [
    "data_training_array= scaler.fit_transform(data_training)\n",
    "data_training_array"
   ]
  },
  {
   "cell_type": "code",
   "execution_count": 84,
   "id": "59004935",
   "metadata": {},
   "outputs": [
    {
     "data": {
      "text/plain": [
       "(1761, 1)"
      ]
     },
     "execution_count": 84,
     "metadata": {},
     "output_type": "execute_result"
    }
   ],
   "source": [
    "data_training_array.shape"
   ]
  },
  {
   "cell_type": "code",
   "execution_count": 85,
   "id": "abe4f19e",
   "metadata": {},
   "outputs": [],
   "source": [
    "x_train=[]\n",
    "y_train=[]\n",
    "for i in range (100,data_training_array.shape[0]):\n",
    "    x_train.append(data_training_array[i-100:i])\n",
    "    y_train.append(data_training_array[i, 0])\n",
    "               \n",
    "x_train, y_train =np.array(x_train) , np.array(y_train)           \n",
    "            "
   ]
  },
  {
   "cell_type": "code",
   "execution_count": 86,
   "id": "6dfacaa9",
   "metadata": {},
   "outputs": [
    {
     "data": {
      "text/plain": [
       "(1661, 100, 1)"
      ]
     },
     "execution_count": 86,
     "metadata": {},
     "output_type": "execute_result"
    }
   ],
   "source": [
    "x_train.shape"
   ]
  },
  {
   "cell_type": "code",
   "execution_count": 87,
   "id": "f6ff9e58",
   "metadata": {},
   "outputs": [],
   "source": [
    "from sklearn.model_selection import train_test_split"
   ]
  },
  {
   "cell_type": "markdown",
   "id": "9b1d7768",
   "metadata": {},
   "source": [
    "# ML Model"
   ]
  },
  {
   "cell_type": "code",
   "execution_count": 88,
   "id": "4e87e73b",
   "metadata": {},
   "outputs": [],
   "source": [
    "from keras.models import Sequential\n",
    "from keras.layers import Dense, Dropout , LSTM"
   ]
  },
  {
   "cell_type": "code",
   "execution_count": 89,
   "id": "86bc9199",
   "metadata": {},
   "outputs": [],
   "source": [
    "model = Sequential() #creating a model\n",
    "model.add(LSTM(units=50, activation= 'relu' , return_sequences= True,\n",
    "               input_shape=(x_train.shape[1],1)))\n",
    "model.add(Dropout(0.2))\n",
    "\n",
    "model.add(LSTM(units=60, activation= 'relu' , return_sequences= True))\n",
    "model.add(Dropout(0.3))\n",
    "\n",
    "model.add(LSTM(units=80, activation= 'relu' , return_sequences= True))\n",
    "model.add(Dropout(0.4))\n",
    "\n",
    "model.add(LSTM(units=120, activation= 'relu' ))\n",
    "model.add(Dropout(0.5))\n",
    "\n",
    "model.add(Dense(units=1))"
   ]
  },
  {
   "cell_type": "code",
   "execution_count": 90,
   "id": "8d8006ef",
   "metadata": {},
   "outputs": [
    {
     "name": "stdout",
     "output_type": "stream",
     "text": [
      "Model: \"sequential_1\"\n",
      "_________________________________________________________________\n",
      " Layer (type)                Output Shape              Param #   \n",
      "=================================================================\n",
      " lstm_4 (LSTM)               (None, 100, 50)           10400     \n",
      "                                                                 \n",
      " dropout_4 (Dropout)         (None, 100, 50)           0         \n",
      "                                                                 \n",
      " lstm_5 (LSTM)               (None, 100, 60)           26640     \n",
      "                                                                 \n",
      " dropout_5 (Dropout)         (None, 100, 60)           0         \n",
      "                                                                 \n",
      " lstm_6 (LSTM)               (None, 100, 80)           45120     \n",
      "                                                                 \n",
      " dropout_6 (Dropout)         (None, 100, 80)           0         \n",
      "                                                                 \n",
      " lstm_7 (LSTM)               (None, 120)               96480     \n",
      "                                                                 \n",
      " dropout_7 (Dropout)         (None, 120)               0         \n",
      "                                                                 \n",
      " dense_1 (Dense)             (None, 1)                 121       \n",
      "                                                                 \n",
      "=================================================================\n",
      "Total params: 178,761\n",
      "Trainable params: 178,761\n",
      "Non-trainable params: 0\n",
      "_________________________________________________________________\n"
     ]
    }
   ],
   "source": [
    "model.summary()"
   ]
  },
  {
   "cell_type": "code",
   "execution_count": 91,
   "id": "25cdb07f",
   "metadata": {},
   "outputs": [
    {
     "name": "stdout",
     "output_type": "stream",
     "text": [
      "Epoch 1/50\n",
      "52/52 [==============================] - 15s 223ms/step - loss: 0.0364\n",
      "Epoch 2/50\n",
      "52/52 [==============================] - 11s 216ms/step - loss: 0.0067\n",
      "Epoch 3/50\n",
      "52/52 [==============================] - 11s 219ms/step - loss: 0.0060\n",
      "Epoch 4/50\n",
      "52/52 [==============================] - 11s 210ms/step - loss: 0.0063\n",
      "Epoch 5/50\n",
      "52/52 [==============================] - 11s 212ms/step - loss: 0.0056\n",
      "Epoch 6/50\n",
      "52/52 [==============================] - 11s 212ms/step - loss: 0.0051\n",
      "Epoch 7/50\n",
      "52/52 [==============================] - 11s 207ms/step - loss: 0.0047\n",
      "Epoch 8/50\n",
      "52/52 [==============================] - 11s 217ms/step - loss: 0.0051\n",
      "Epoch 9/50\n",
      "52/52 [==============================] - 11s 206ms/step - loss: 0.0050\n",
      "Epoch 10/50\n",
      "52/52 [==============================] - 11s 202ms/step - loss: 0.0044\n",
      "Epoch 11/50\n",
      "52/52 [==============================] - 11s 213ms/step - loss: 0.0038\n",
      "Epoch 12/50\n",
      "52/52 [==============================] - 11s 207ms/step - loss: 0.0039\n",
      "Epoch 13/50\n",
      "52/52 [==============================] - 11s 209ms/step - loss: 0.0036\n",
      "Epoch 14/50\n",
      "52/52 [==============================] - 11s 211ms/step - loss: 0.0038\n",
      "Epoch 15/50\n",
      "52/52 [==============================] - 11s 214ms/step - loss: 0.0034\n",
      "Epoch 16/50\n",
      "52/52 [==============================] - 11s 218ms/step - loss: 0.0032\n",
      "Epoch 17/50\n",
      "52/52 [==============================] - 11s 212ms/step - loss: 0.0032\n",
      "Epoch 18/50\n",
      "52/52 [==============================] - 11s 210ms/step - loss: 0.0036\n",
      "Epoch 19/50\n",
      "52/52 [==============================] - 11s 212ms/step - loss: 0.0034\n",
      "Epoch 20/50\n",
      "52/52 [==============================] - 11s 212ms/step - loss: 0.0031\n",
      "Epoch 21/50\n",
      "52/52 [==============================] - 10s 201ms/step - loss: 0.0027\n",
      "Epoch 22/50\n",
      "52/52 [==============================] - 11s 217ms/step - loss: 0.0031\n",
      "Epoch 23/50\n",
      "52/52 [==============================] - 11s 211ms/step - loss: 0.0029\n",
      "Epoch 24/50\n",
      "52/52 [==============================] - 11s 211ms/step - loss: 0.0027\n",
      "Epoch 25/50\n",
      "52/52 [==============================] - 11s 210ms/step - loss: 0.0025\n",
      "Epoch 26/50\n",
      "52/52 [==============================] - 11s 203ms/step - loss: 0.0025\n",
      "Epoch 27/50\n",
      "52/52 [==============================] - 11s 210ms/step - loss: 0.0025\n",
      "Epoch 28/50\n",
      "52/52 [==============================] - 12s 222ms/step - loss: 0.0025\n",
      "Epoch 29/50\n",
      "52/52 [==============================] - 10s 199ms/step - loss: 0.0025\n",
      "Epoch 30/50\n",
      "52/52 [==============================] - 11s 203ms/step - loss: 0.0026\n",
      "Epoch 31/50\n",
      "52/52 [==============================] - 11s 217ms/step - loss: 0.0025\n",
      "Epoch 32/50\n",
      "52/52 [==============================] - 11s 205ms/step - loss: 0.0028\n",
      "Epoch 33/50\n",
      "52/52 [==============================] - 11s 209ms/step - loss: 0.0025\n",
      "Epoch 34/50\n",
      "52/52 [==============================] - 11s 210ms/step - loss: 0.0024\n",
      "Epoch 35/50\n",
      "52/52 [==============================] - 11s 206ms/step - loss: 0.0026\n",
      "Epoch 36/50\n",
      "52/52 [==============================] - 11s 218ms/step - loss: 0.0024\n",
      "Epoch 37/50\n",
      "52/52 [==============================] - 11s 213ms/step - loss: 0.0023\n",
      "Epoch 38/50\n",
      "52/52 [==============================] - 11s 206ms/step - loss: 0.0021\n",
      "Epoch 39/50\n",
      "52/52 [==============================] - 11s 218ms/step - loss: 0.0021\n",
      "Epoch 40/50\n",
      "52/52 [==============================] - 12s 227ms/step - loss: 0.0022\n",
      "Epoch 41/50\n",
      "52/52 [==============================] - 12s 223ms/step - loss: 0.0020\n",
      "Epoch 42/50\n",
      "52/52 [==============================] - 11s 208ms/step - loss: 0.0020\n",
      "Epoch 43/50\n",
      "52/52 [==============================] - 11s 212ms/step - loss: 0.0020\n",
      "Epoch 44/50\n",
      "52/52 [==============================] - 11s 219ms/step - loss: 0.0020\n",
      "Epoch 45/50\n",
      "52/52 [==============================] - 10s 200ms/step - loss: 0.0020\n",
      "Epoch 46/50\n",
      "52/52 [==============================] - 10s 200ms/step - loss: 0.0020\n",
      "Epoch 47/50\n",
      "52/52 [==============================] - 11s 211ms/step - loss: 0.0021\n",
      "Epoch 48/50\n",
      "52/52 [==============================] - 11s 210ms/step - loss: 0.0020\n",
      "Epoch 49/50\n",
      "52/52 [==============================] - 11s 216ms/step - loss: 0.0020\n",
      "Epoch 50/50\n",
      "52/52 [==============================] - 11s 219ms/step - loss: 0.0023\n"
     ]
    },
    {
     "data": {
      "text/plain": [
       "<keras.callbacks.History at 0x284c53a5340>"
      ]
     },
     "execution_count": 91,
     "metadata": {},
     "output_type": "execute_result"
    }
   ],
   "source": [
    "model.compile(optimizer=\"adam\",loss=\"mse\") #mean square error \n",
    "model.fit(x_train, y_train,epochs=50)"
   ]
  },
  {
   "cell_type": "code",
   "execution_count": 92,
   "id": "fbbba66f",
   "metadata": {},
   "outputs": [],
   "source": [
    "#Save model as a h5 file format\n",
    "model.save('keras_model_3.h5')"
   ]
  },
  {
   "cell_type": "code",
   "execution_count": 146,
   "id": "8c023396",
   "metadata": {},
   "outputs": [],
   "source": [
    "from tensorflow import keras\n",
    "model2 = keras.models.load_model('keras_model_2.h5')"
   ]
  },
  {
   "cell_type": "code",
   "execution_count": 147,
   "id": "e3e99dea",
   "metadata": {},
   "outputs": [
    {
     "data": {
      "text/html": [
       "<div>\n",
       "<style scoped>\n",
       "    .dataframe tbody tr th:only-of-type {\n",
       "        vertical-align: middle;\n",
       "    }\n",
       "\n",
       "    .dataframe tbody tr th {\n",
       "        vertical-align: top;\n",
       "    }\n",
       "\n",
       "    .dataframe thead th {\n",
       "        text-align: right;\n",
       "    }\n",
       "</style>\n",
       "<table border=\"1\" class=\"dataframe\">\n",
       "  <thead>\n",
       "    <tr style=\"text-align: right;\">\n",
       "      <th></th>\n",
       "      <th>Close</th>\n",
       "    </tr>\n",
       "  </thead>\n",
       "  <tbody>\n",
       "    <tr>\n",
       "      <th>1761</th>\n",
       "      <td>67.692497</td>\n",
       "    </tr>\n",
       "    <tr>\n",
       "      <th>1762</th>\n",
       "      <td>67.864998</td>\n",
       "    </tr>\n",
       "    <tr>\n",
       "      <th>1763</th>\n",
       "      <td>68.787498</td>\n",
       "    </tr>\n",
       "    <tr>\n",
       "      <th>1764</th>\n",
       "      <td>69.964996</td>\n",
       "    </tr>\n",
       "    <tr>\n",
       "      <th>1765</th>\n",
       "      <td>70.102501</td>\n",
       "    </tr>\n",
       "  </tbody>\n",
       "</table>\n",
       "</div>"
      ],
      "text/plain": [
       "          Close\n",
       "1761  67.692497\n",
       "1762  67.864998\n",
       "1763  68.787498\n",
       "1764  69.964996\n",
       "1765  70.102501"
      ]
     },
     "execution_count": 147,
     "metadata": {},
     "output_type": "execute_result"
    }
   ],
   "source": [
    "data_testing.head()"
   ]
  },
  {
   "cell_type": "code",
   "execution_count": 148,
   "id": "f7def9a1",
   "metadata": {},
   "outputs": [
    {
     "data": {
      "text/html": [
       "<div>\n",
       "<style scoped>\n",
       "    .dataframe tbody tr th:only-of-type {\n",
       "        vertical-align: middle;\n",
       "    }\n",
       "\n",
       "    .dataframe tbody tr th {\n",
       "        vertical-align: top;\n",
       "    }\n",
       "\n",
       "    .dataframe thead th {\n",
       "        text-align: right;\n",
       "    }\n",
       "</style>\n",
       "<table border=\"1\" class=\"dataframe\">\n",
       "  <thead>\n",
       "    <tr style=\"text-align: right;\">\n",
       "      <th></th>\n",
       "      <th>Close</th>\n",
       "    </tr>\n",
       "  </thead>\n",
       "  <tbody>\n",
       "    <tr>\n",
       "      <th>1661</th>\n",
       "      <td>51.805000</td>\n",
       "    </tr>\n",
       "    <tr>\n",
       "      <th>1662</th>\n",
       "      <td>52.209999</td>\n",
       "    </tr>\n",
       "    <tr>\n",
       "      <th>1663</th>\n",
       "      <td>52.167500</td>\n",
       "    </tr>\n",
       "    <tr>\n",
       "      <th>1664</th>\n",
       "      <td>51.755001</td>\n",
       "    </tr>\n",
       "    <tr>\n",
       "      <th>1665</th>\n",
       "      <td>51.935001</td>\n",
       "    </tr>\n",
       "    <tr>\n",
       "      <th>...</th>\n",
       "      <td>...</td>\n",
       "    </tr>\n",
       "    <tr>\n",
       "      <th>1756</th>\n",
       "      <td>65.434998</td>\n",
       "    </tr>\n",
       "    <tr>\n",
       "      <th>1757</th>\n",
       "      <td>66.394997</td>\n",
       "    </tr>\n",
       "    <tr>\n",
       "      <th>1758</th>\n",
       "      <td>67.677498</td>\n",
       "    </tr>\n",
       "    <tr>\n",
       "      <th>1759</th>\n",
       "      <td>66.730003</td>\n",
       "    </tr>\n",
       "    <tr>\n",
       "      <th>1760</th>\n",
       "      <td>67.120003</td>\n",
       "    </tr>\n",
       "  </tbody>\n",
       "</table>\n",
       "<p>100 rows × 1 columns</p>\n",
       "</div>"
      ],
      "text/plain": [
       "          Close\n",
       "1661  51.805000\n",
       "1662  52.209999\n",
       "1663  52.167500\n",
       "1664  51.755001\n",
       "1665  51.935001\n",
       "...         ...\n",
       "1756  65.434998\n",
       "1757  66.394997\n",
       "1758  67.677498\n",
       "1759  66.730003\n",
       "1760  67.120003\n",
       "\n",
       "[100 rows x 1 columns]"
      ]
     },
     "execution_count": 148,
     "metadata": {},
     "output_type": "execute_result"
    }
   ],
   "source": [
    "data_training.tail(100)"
   ]
  },
  {
   "cell_type": "markdown",
   "id": "66448839",
   "metadata": {},
   "source": [
    "Using last 100 days ,we are going to generate a prediction"
   ]
  },
  {
   "cell_type": "code",
   "execution_count": 149,
   "id": "3c1efac8",
   "metadata": {},
   "outputs": [],
   "source": [
    "past100_days=data_training.tail(100)"
   ]
  },
  {
   "cell_type": "code",
   "execution_count": 189,
   "id": "c541bdbb",
   "metadata": {},
   "outputs": [],
   "source": [
    "#Concat is recommended\n",
    "#final_df= past100_days.append(data_testing, ignore_index=True)\n",
    "final_df= pd.concat([past100_days, data_testing], ignore_index=True)"
   ]
  },
  {
   "cell_type": "code",
   "execution_count": 190,
   "id": "50f61b7e",
   "metadata": {},
   "outputs": [
    {
     "data": {
      "text/html": [
       "<div>\n",
       "<style scoped>\n",
       "    .dataframe tbody tr th:only-of-type {\n",
       "        vertical-align: middle;\n",
       "    }\n",
       "\n",
       "    .dataframe tbody tr th {\n",
       "        vertical-align: top;\n",
       "    }\n",
       "\n",
       "    .dataframe thead th {\n",
       "        text-align: right;\n",
       "    }\n",
       "</style>\n",
       "<table border=\"1\" class=\"dataframe\">\n",
       "  <thead>\n",
       "    <tr style=\"text-align: right;\">\n",
       "      <th></th>\n",
       "      <th>Close</th>\n",
       "    </tr>\n",
       "  </thead>\n",
       "  <tbody>\n",
       "    <tr>\n",
       "      <th>0</th>\n",
       "      <td>51.805000</td>\n",
       "    </tr>\n",
       "    <tr>\n",
       "      <th>1</th>\n",
       "      <td>52.209999</td>\n",
       "    </tr>\n",
       "    <tr>\n",
       "      <th>2</th>\n",
       "      <td>52.167500</td>\n",
       "    </tr>\n",
       "    <tr>\n",
       "      <th>3</th>\n",
       "      <td>51.755001</td>\n",
       "    </tr>\n",
       "    <tr>\n",
       "      <th>4</th>\n",
       "      <td>51.935001</td>\n",
       "    </tr>\n",
       "  </tbody>\n",
       "</table>\n",
       "</div>"
      ],
      "text/plain": [
       "       Close\n",
       "0  51.805000\n",
       "1  52.209999\n",
       "2  52.167500\n",
       "3  51.755001\n",
       "4  51.935001"
      ]
     },
     "execution_count": 190,
     "metadata": {},
     "output_type": "execute_result"
    }
   ],
   "source": [
    "final_df.head()"
   ]
  },
  {
   "cell_type": "code",
   "execution_count": 191,
   "id": "ac92b765",
   "metadata": {},
   "outputs": [
    {
     "data": {
      "text/plain": [
       "(856, 1)"
      ]
     },
     "execution_count": 191,
     "metadata": {},
     "output_type": "execute_result"
    }
   ],
   "source": [
    "final_df.shape"
   ]
  },
  {
   "cell_type": "code",
   "execution_count": 192,
   "id": "2f37dce4",
   "metadata": {},
   "outputs": [
    {
     "ename": "AttributeError",
     "evalue": "'numpy.ndarray' object has no attribute 'fit_transform'",
     "output_type": "error",
     "traceback": [
      "\u001b[1;31m---------------------------------------------------------------------------\u001b[0m",
      "\u001b[1;31mAttributeError\u001b[0m                            Traceback (most recent call last)",
      "Cell \u001b[1;32mIn [192], line 1\u001b[0m\n\u001b[1;32m----> 1\u001b[0m input_data \u001b[38;5;241m=\u001b[39m \u001b[43mscaler\u001b[49m\u001b[38;5;241;43m.\u001b[39;49m\u001b[43mfit_transform\u001b[49m(final_df)\n\u001b[0;32m      2\u001b[0m input_data\n",
      "\u001b[1;31mAttributeError\u001b[0m: 'numpy.ndarray' object has no attribute 'fit_transform'"
     ]
    }
   ],
   "source": [
    "input_data = scaler.fit_transform(final_df)\n",
    "input_data"
   ]
  },
  {
   "cell_type": "code",
   "execution_count": 193,
   "id": "3f371626",
   "metadata": {},
   "outputs": [
    {
     "data": {
      "text/plain": [
       "(856, 1)"
      ]
     },
     "execution_count": 193,
     "metadata": {},
     "output_type": "execute_result"
    }
   ],
   "source": [
    "input_data.shape"
   ]
  },
  {
   "cell_type": "code",
   "execution_count": 194,
   "id": "00f01c8a",
   "metadata": {},
   "outputs": [],
   "source": [
    "x_test = []\n",
    "y_test = []\n",
    "\n",
    "for i in range (100,input_data.shape[0]):\n",
    "    x_test.append(input_data[i-100:i])\n",
    "    y_test.append(input_data[i, 0])"
   ]
  },
  {
   "cell_type": "code",
   "execution_count": 195,
   "id": "f6f85e81",
   "metadata": {},
   "outputs": [
    {
     "name": "stdout",
     "output_type": "stream",
     "text": [
      "(756, 100, 1)\n",
      "(756,)\n"
     ]
    }
   ],
   "source": [
    "x_test, y_test =np.array(x_test) , np.array(y_test)    \n",
    "print(x_test.shape)\n",
    "print(y_test.shape)             "
   ]
  },
  {
   "cell_type": "markdown",
   "id": "73d86bef",
   "metadata": {},
   "source": [
    "# Making Predictions"
   ]
  },
  {
   "cell_type": "code",
   "execution_count": 156,
   "id": "7c3d6096",
   "metadata": {},
   "outputs": [
    {
     "name": "stdout",
     "output_type": "stream",
     "text": [
      "24/24 [==============================] - 2s 70ms/step\n"
     ]
    }
   ],
   "source": [
    "y_predicted = model2.predict(x_test)"
   ]
  },
  {
   "cell_type": "code",
   "execution_count": 158,
   "id": "244bdc31",
   "metadata": {},
   "outputs": [
    {
     "data": {
      "text/plain": [
       "(756, 1)"
      ]
     },
     "execution_count": 158,
     "metadata": {},
     "output_type": "execute_result"
    }
   ],
   "source": [
    "y_predicted.shape"
   ]
  },
  {
   "cell_type": "code",
   "execution_count": 165,
   "id": "e1f6e631",
   "metadata": {},
   "outputs": [
    {
     "ename": "AttributeError",
     "evalue": "'numpy.ndarray' object has no attribute 'scale_'",
     "output_type": "error",
     "traceback": [
      "\u001b[1;31m---------------------------------------------------------------------------\u001b[0m",
      "\u001b[1;31mAttributeError\u001b[0m                            Traceback (most recent call last)",
      "Cell \u001b[1;32mIn [165], line 1\u001b[0m\n\u001b[1;32m----> 1\u001b[0m scaler\u001b[38;5;241m=\u001b[39m\u001b[43mscaler\u001b[49m\u001b[38;5;241;43m.\u001b[39;49m\u001b[43mscale_\u001b[49m\n",
      "\u001b[1;31mAttributeError\u001b[0m: 'numpy.ndarray' object has no attribute 'scale_'"
     ]
    }
   ],
   "source": [
    "scaler=scaler.scale_"
   ]
  },
  {
   "cell_type": "code",
   "execution_count": 166,
   "id": "021bcf3f",
   "metadata": {},
   "outputs": [
    {
     "data": {
      "text/plain": [
       "0.007480830628348793"
      ]
     },
     "execution_count": 166,
     "metadata": {},
     "output_type": "execute_result"
    }
   ],
   "source": [
    "scaler[0]"
   ]
  },
  {
   "cell_type": "code",
   "execution_count": 161,
   "id": "415e3898",
   "metadata": {},
   "outputs": [],
   "source": [
    "scaler_factor =1/scaler[0]\n",
    "y_predicted = y_predicted * scaler_factor\n",
    "y_test = y_test *scaler_factor"
   ]
  },
  {
   "cell_type": "code",
   "execution_count": 229,
   "id": "0758e94b",
   "metadata": {},
   "outputs": [],
   "source": [
    "y = np.reshape(y_test, (1,756)).T"
   ]
  },
  {
   "cell_type": "code",
   "execution_count": null,
   "id": "29b66c54",
   "metadata": {},
   "outputs": [],
   "source": [
    "y_p = np.reshape(y_predicted, (1,756)).T\n",
    "yp=y_p.tolist()"
   ]
  },
  {
   "cell_type": "code",
   "execution_count": 233,
   "id": "107b29d2",
   "metadata": {},
   "outputs": [
    {
     "name": "stdout",
     "output_type": "stream",
     "text": [
      "24/24 [==============================] - 2s 80ms/step\n"
     ]
    },
    {
     "data": {
      "text/html": [
       "<div>\n",
       "<style scoped>\n",
       "    .dataframe tbody tr th:only-of-type {\n",
       "        vertical-align: middle;\n",
       "    }\n",
       "\n",
       "    .dataframe tbody tr th {\n",
       "        vertical-align: top;\n",
       "    }\n",
       "\n",
       "    .dataframe thead th {\n",
       "        text-align: right;\n",
       "    }\n",
       "</style>\n",
       "<table border=\"1\" class=\"dataframe\">\n",
       "  <thead>\n",
       "    <tr style=\"text-align: right;\">\n",
       "      <th></th>\n",
       "      <th>Actual</th>\n",
       "      <th>Predicted</th>\n",
       "    </tr>\n",
       "  </thead>\n",
       "  <tbody>\n",
       "    <tr>\n",
       "      <th>0</th>\n",
       "      <td>[0.14481016519045176]</td>\n",
       "      <td>[0.1669902503490448]</td>\n",
       "    </tr>\n",
       "    <tr>\n",
       "      <th>1</th>\n",
       "      <td>[0.14610061303977862]</td>\n",
       "      <td>[0.16726627945899963]</td>\n",
       "    </tr>\n",
       "    <tr>\n",
       "      <th>2</th>\n",
       "      <td>[0.15300168386036705]</td>\n",
       "      <td>[0.16761630773544312]</td>\n",
       "    </tr>\n",
       "    <tr>\n",
       "      <th>3</th>\n",
       "      <td>[0.1618103459444694]</td>\n",
       "      <td>[0.1680837720632553]</td>\n",
       "    </tr>\n",
       "    <tr>\n",
       "      <th>4</th>\n",
       "      <td>[0.1628389944003923]</td>\n",
       "      <td>[0.1687326431274414]</td>\n",
       "    </tr>\n",
       "  </tbody>\n",
       "</table>\n",
       "</div>"
      ],
      "text/plain": [
       "                  Actual              Predicted\n",
       "0  [0.14481016519045176]   [0.1669902503490448]\n",
       "1  [0.14610061303977862]  [0.16726627945899963]\n",
       "2  [0.15300168386036705]  [0.16761630773544312]\n",
       "3   [0.1618103459444694]   [0.1680837720632553]\n",
       "4   [0.1628389944003923]   [0.1687326431274414]"
      ]
     },
     "execution_count": 233,
     "metadata": {},
     "output_type": "execute_result"
    }
   ],
   "source": [
    "#Actual Value, Predictions\n",
    "y_predicted = model2.predict(x_test)\n",
    "pred_df = pd.DataFrame({'Actual': ya, 'Predicted': yp})\n",
    "pred_df.head()"
   ]
  },
  {
   "cell_type": "code",
   "execution_count": 235,
   "id": "1521b9fa",
   "metadata": {},
   "outputs": [
    {
     "name": "stdout",
     "output_type": "stream",
     "text": [
      "Accuracy score of the predictions: 0.9635065117014486\n"
     ]
    }
   ],
   "source": [
    "# Measure the Accuracy Score\n",
    "Acc=[];\n",
    "from sklearn.metrics import r2_score\n",
    " \n",
    "print(\"Accuracy score of the predictions: {0}\".format(r2_score(ya, yp)))\n",
    "Acc.append(r2_score(ya, yp))"
   ]
  },
  {
   "cell_type": "code",
   "execution_count": 162,
   "id": "5d9353c6",
   "metadata": {
    "scrolled": false
   },
   "outputs": [
    {
     "data": {
      "image/png": "[encoded data removed]",
      "text/plain": [
       "<Figure size 1200x600 with 1 Axes>"
      ]
     },
     "metadata": {},
     "output_type": "display_data"
    }
   ],
   "source": [
    "plt.figure(figsize=(12,6))\n",
    "plt.plot(y_test,'b', label ='Original Price')\n",
    "plt.plot(y_predicted , 'r', label ='Predicted Price')\n",
    "plt.xlabel('Time')\n",
    "plt.ylabel('Price')\n",
    "plt.legend()\n",
    "plt.show()"
   ]
  },
  {
   "cell_type": "markdown",
   "id": "3d9b5c19",
   "metadata": {},
   "source": [
    "# Summary\n",
    "In this notebook, we discovered and explored APPLE stock data.\n",
    "\n",
    "Specifically, we learned:\n",
    "\n",
    "- How to load stock market data from the YAHOO Finance website using yfinance.\n",
    "- How to explore and visualize time-series data using Numpy, Pandas and Matplotlib.\n",
    "- How to create the model of stocks with LSTM.\n",
    "- How to make the prediction and control the accuracy of them."
   ]
  },
  {
   "cell_type": "code",
   "execution_count": null,
   "id": "ee213ed3",
   "metadata": {},
   "outputs": [],
   "source": []
  }
 ],
 "metadata": {
  "kernelspec": {
   "display_name": "Python 3 (ipykernel)",
   "language": "python",
   "name": "python3"
  },
  "language_info": {
   "codemirror_mode": {
    "name": "ipython",
    "version": 3
   },
   "file_extension": ".py",
   "mimetype": "text/x-python",
   "name": "python",
   "nbconvert_exporter": "python",
   "pygments_lexer": "ipython3",
   "version": "3.9.7"
  }
 },
 "nbformat": 4,
 "nbformat_minor": 5
}
